{
 "cells": [
  {
   "cell_type": "code",
   "execution_count": 1,
   "metadata": {},
   "outputs": [],
   "source": [
    "from attribute_general import AttributeGeneral\n",
    "import pandas as pd\n",
    "import warnings\n",
    "\n",
    "warnings.filterwarnings('ignore')\n"
   ]
  },
  {
   "cell_type": "code",
   "execution_count": 2,
   "metadata": {},
   "outputs": [],
   "source": [
    "df = pd.read_csv('data/new_device.csv')\n",
    "\n",
    "features = ['source', 'package', 'os', 'language', 'country','language_group', 'country_group',\n",
    "            'first_token_trade_coin_pair',\n",
    "            'first_token_trade_chain_pair', 'first_nft_trade_token_title',\n",
    "            'first_connect_dapp', 'first_otc_fiat_code', 'airdrop_name',\n",
    "            'invite_code', 'red_packet_code',\n",
    "            'amt_usd', \n",
    "            'total_trade', \n",
    "            'future_total_trade', 'lately_login_ip',\n",
    "            'wallet_type', 'level_1_user_source',\n",
    "            'level_2_user_source', 'level_3_user_source']\n",
    "target = 'target'\n",
    "\n",
    "# df = pd.read_csv('data/swap.csv')\n",
    "# df['target'] = df['target'].astype(int)\n",
    "\n",
    "# features = ['from_coin', 'to_coin', 'from_chain', 'to_chain', 'market',\n",
    "#             'country', 'language', \n",
    "#             'imei_level_1_user_source', 'imei_level_2_user_source',\n",
    "#             'imei_level_3_user_source', 'lifecycle_tag', 'from_amt_usd']\n",
    "# target = 'target'\n",
    "\n",
    "# features = ['from_coin', 'to_coin', 'from_chain', 'to_chain', 'market',\n",
    "#             'country', 'language', \n",
    "#             'imei_level_1_user_source', 'imei_level_2_user_source',\n",
    "#             'imei_level_3_user_source', 'lifecycle_tag']\n",
    "# target = 'target'"
   ]
  },
  {
   "cell_type": "code",
   "execution_count": 3,
   "metadata": {},
   "outputs": [
    {
     "data": {
      "text/html": [
       "<div>\n",
       "<style scoped>\n",
       "    .dataframe tbody tr th:only-of-type {\n",
       "        vertical-align: middle;\n",
       "    }\n",
       "\n",
       "    .dataframe tbody tr th {\n",
       "        vertical-align: top;\n",
       "    }\n",
       "\n",
       "    .dataframe thead th {\n",
       "        text-align: right;\n",
       "    }\n",
       "</style>\n",
       "<table border=\"1\" class=\"dataframe\">\n",
       "  <thead>\n",
       "    <tr style=\"text-align: right;\">\n",
       "      <th></th>\n",
       "      <th>imei</th>\n",
       "      <th>source</th>\n",
       "      <th>package</th>\n",
       "      <th>os</th>\n",
       "      <th>language_group</th>\n",
       "      <th>language</th>\n",
       "      <th>country_group</th>\n",
       "      <th>country</th>\n",
       "      <th>first_token_trade_coin_pair</th>\n",
       "      <th>first_token_trade_chain_pair</th>\n",
       "      <th>...</th>\n",
       "      <th>red_packet_name</th>\n",
       "      <th>main_token_hold_usdt</th>\n",
       "      <th>future_total_trade</th>\n",
       "      <th>lately_login_ip</th>\n",
       "      <th>wallet_type</th>\n",
       "      <th>level_1_user_source</th>\n",
       "      <th>level_2_user_source</th>\n",
       "      <th>level_3_user_source</th>\n",
       "      <th>target</th>\n",
       "      <th>device_create_date</th>\n",
       "    </tr>\n",
       "  </thead>\n",
       "  <tbody>\n",
       "    <tr>\n",
       "      <th>0</th>\n",
       "      <td>00105ecf41ee631a</td>\n",
       "      <td>unknown</td>\n",
       "      <td>com.bitkeep.wallet</td>\n",
       "      <td>android</td>\n",
       "      <td>main</td>\n",
       "      <td>en</td>\n",
       "      <td>南亚</td>\n",
       "      <td>孟加拉国</td>\n",
       "      <td>NaN</td>\n",
       "      <td>NaN</td>\n",
       "      <td>...</td>\n",
       "      <td>NaN</td>\n",
       "      <td>0.000000</td>\n",
       "      <td>0.0</td>\n",
       "      <td>119.148.29.134</td>\n",
       "      <td>4</td>\n",
       "      <td>其他</td>\n",
       "      <td>unknown</td>\n",
       "      <td>unknown</td>\n",
       "      <td>0</td>\n",
       "      <td>2024-04-27</td>\n",
       "    </tr>\n",
       "    <tr>\n",
       "      <th>1</th>\n",
       "      <td>001af252252ea609</td>\n",
       "      <td>unknown</td>\n",
       "      <td>com.bitkeep.wallet</td>\n",
       "      <td>android</td>\n",
       "      <td>main</td>\n",
       "      <td>en</td>\n",
       "      <td>南亚</td>\n",
       "      <td>印度</td>\n",
       "      <td>NaN</td>\n",
       "      <td>NaN</td>\n",
       "      <td>...</td>\n",
       "      <td>NaN</td>\n",
       "      <td>0.000000</td>\n",
       "      <td>0.0</td>\n",
       "      <td>157.48.226.234</td>\n",
       "      <td>0</td>\n",
       "      <td>运营活动</td>\n",
       "      <td>第11期 - BWB积分持有者专属福利</td>\n",
       "      <td>地址收集</td>\n",
       "      <td>0</td>\n",
       "      <td>2024-04-27</td>\n",
       "    </tr>\n",
       "    <tr>\n",
       "      <th>2</th>\n",
       "      <td>001de708fd4e8638</td>\n",
       "      <td>unknown</td>\n",
       "      <td>com.bitkeep.wallet</td>\n",
       "      <td>android</td>\n",
       "      <td>main</td>\n",
       "      <td>en</td>\n",
       "      <td>欧美</td>\n",
       "      <td>英国</td>\n",
       "      <td>NaN</td>\n",
       "      <td>NaN</td>\n",
       "      <td>...</td>\n",
       "      <td>NaN</td>\n",
       "      <td>0.000000</td>\n",
       "      <td>0.0</td>\n",
       "      <td>86.187.175.134</td>\n",
       "      <td>0</td>\n",
       "      <td>其他</td>\n",
       "      <td>unknown</td>\n",
       "      <td>unknown</td>\n",
       "      <td>1</td>\n",
       "      <td>2024-04-28</td>\n",
       "    </tr>\n",
       "    <tr>\n",
       "      <th>3</th>\n",
       "      <td>0022add14fe59eb3</td>\n",
       "      <td>unknown</td>\n",
       "      <td>com.bitkeep.wallet</td>\n",
       "      <td>android</td>\n",
       "      <td>main</td>\n",
       "      <td>en</td>\n",
       "      <td>其他国家</td>\n",
       "      <td>爱尔兰</td>\n",
       "      <td>NaN</td>\n",
       "      <td>NaN</td>\n",
       "      <td>...</td>\n",
       "      <td>NaN</td>\n",
       "      <td>0.000000</td>\n",
       "      <td>0.0</td>\n",
       "      <td>109.78.158.46</td>\n",
       "      <td>4</td>\n",
       "      <td>运营活动</td>\n",
       "      <td>第10期 - BWB空投末班车</td>\n",
       "      <td>地址收集</td>\n",
       "      <td>0</td>\n",
       "      <td>2024-04-27</td>\n",
       "    </tr>\n",
       "    <tr>\n",
       "      <th>4</th>\n",
       "      <td>00234473600b2696</td>\n",
       "      <td>unknown</td>\n",
       "      <td>com.bitkeep.wallet</td>\n",
       "      <td>android</td>\n",
       "      <td>not_main</td>\n",
       "      <td>cs</td>\n",
       "      <td>其他国家</td>\n",
       "      <td>捷克</td>\n",
       "      <td>NaN</td>\n",
       "      <td>NaN</td>\n",
       "      <td>...</td>\n",
       "      <td>NaN</td>\n",
       "      <td>0.876855</td>\n",
       "      <td>0.0</td>\n",
       "      <td>31.30.175.60</td>\n",
       "      <td>4</td>\n",
       "      <td>其他</td>\n",
       "      <td>unknown</td>\n",
       "      <td>unknown</td>\n",
       "      <td>0</td>\n",
       "      <td>2024-04-27</td>\n",
       "    </tr>\n",
       "  </tbody>\n",
       "</table>\n",
       "<p>5 rows × 31 columns</p>\n",
       "</div>"
      ],
      "text/plain": [
       "               imei   source             package       os language_group  \\\n",
       "0  00105ecf41ee631a  unknown  com.bitkeep.wallet  android           main   \n",
       "1  001af252252ea609  unknown  com.bitkeep.wallet  android           main   \n",
       "2  001de708fd4e8638  unknown  com.bitkeep.wallet  android           main   \n",
       "3  0022add14fe59eb3  unknown  com.bitkeep.wallet  android           main   \n",
       "4  00234473600b2696  unknown  com.bitkeep.wallet  android       not_main   \n",
       "\n",
       "  language country_group country first_token_trade_coin_pair  \\\n",
       "0       en            南亚    孟加拉国                         NaN   \n",
       "1       en            南亚      印度                         NaN   \n",
       "2       en            欧美      英国                         NaN   \n",
       "3       en          其他国家     爱尔兰                         NaN   \n",
       "4       cs          其他国家      捷克                         NaN   \n",
       "\n",
       "  first_token_trade_chain_pair  ... red_packet_name main_token_hold_usdt  \\\n",
       "0                          NaN  ...             NaN             0.000000   \n",
       "1                          NaN  ...             NaN             0.000000   \n",
       "2                          NaN  ...             NaN             0.000000   \n",
       "3                          NaN  ...             NaN             0.000000   \n",
       "4                          NaN  ...             NaN             0.876855   \n",
       "\n",
       "  future_total_trade lately_login_ip wallet_type  level_1_user_source  \\\n",
       "0                0.0  119.148.29.134           4                   其他   \n",
       "1                0.0  157.48.226.234           0                 运营活动   \n",
       "2                0.0  86.187.175.134           0                   其他   \n",
       "3                0.0   109.78.158.46           4                 运营活动   \n",
       "4                0.0    31.30.175.60           4                   其他   \n",
       "\n",
       "   level_2_user_source  level_3_user_source  target device_create_date  \n",
       "0              unknown              unknown       0         2024-04-27  \n",
       "1  第11期 - BWB积分持有者专属福利                 地址收集       0         2024-04-27  \n",
       "2              unknown              unknown       1         2024-04-28  \n",
       "3      第10期 - BWB空投末班车                 地址收集       0         2024-04-27  \n",
       "4              unknown              unknown       0         2024-04-27  \n",
       "\n",
       "[5 rows x 31 columns]"
      ]
     },
     "execution_count": 3,
     "metadata": {},
     "output_type": "execute_result"
    }
   ],
   "source": [
    "df.head()"
   ]
  },
  {
   "cell_type": "code",
   "execution_count": 4,
   "metadata": {},
   "outputs": [
    {
     "name": "stderr",
     "output_type": "stream",
     "text": [
      "[I 2024-05-11 11:04:26,176] A new study created in memory with name: no-name-1d957a4e-0d97-4f91-bbc3-cee3603eea2d\n"
     ]
    },
    {
     "name": "stdout",
     "output_type": "stream",
     "text": [
      "[LightGBM] [Warning] Categorical features with more bins than the configured maximum bin number found.\n",
      "[LightGBM] [Warning] For categorical features, max_bin and max_bin_by_feature may be ignored with a large number of categories.\n",
      "[LightGBM] [Warning] Categorical features with more bins than the configured maximum bin number found.\n",
      "[LightGBM] [Warning] For categorical features, max_bin and max_bin_by_feature may be ignored with a large number of categories.\n",
      "[LightGBM] [Warning] Categorical features with more bins than the configured maximum bin number found.\n",
      "[LightGBM] [Warning] For categorical features, max_bin and max_bin_by_feature may be ignored with a large number of categories.\n",
      "[LightGBM] [Warning] categorical_feature is set=source,package,os,language,country,language_group,country_group,first_token_trade_coin_pair,first_token_trade_chain_pair,first_nft_trade_token_title,first_connect_dapp,first_otc_fiat_code,airdrop_name,invite_code,lately_login_ip,level_1_user_source,level_2_user_source,level_3_user_source, categorical_column=0,1,2,3,4,5,6,7,8,9,10,11,12,13,18,20,21,22 will be ignored. Current value: categorical_feature=source,package,os,language,country,language_group,country_group,first_token_trade_coin_pair,first_token_trade_chain_pair,first_nft_trade_token_title,first_connect_dapp,first_otc_fiat_code,airdrop_name,invite_code,lately_login_ip,level_1_user_source,level_2_user_source,level_3_user_source\n",
      "[LightGBM] [Info] Number of positive: 14734, number of negative: 15633\n",
      "[LightGBM] [Warning] categorical_feature is set=source,package,os,language,country,language_group,country_group,first_token_trade_coin_pair,first_token_trade_chain_pair,first_nft_trade_token_title,first_connect_dapp,first_otc_fiat_code,airdrop_name,invite_code,lately_login_ip,level_1_user_source,level_2_user_source,level_3_user_source, categorical_column=0,1,2,3,4,5,6,7,8,9,10,11,12,13,18,20,21,22 will be ignored. Current value: categorical_feature=source,package,os,language,country,language_group,country_group,first_token_trade_coin_pair,first_token_trade_chain_pair,first_nft_trade_token_title,first_connect_dapp,first_otc_fiat_code,airdrop_name,invite_code,lately_login_ip,level_1_user_source,level_2_user_source,level_3_user_source\n",
      "[LightGBM] [Info] Number of positive: 14734, number of negative: 15633\n",
      "[LightGBM] [Warning] categorical_feature is set=source,package,os,language,country,language_group,country_group,first_token_trade_coin_pair,first_token_trade_chain_pair,first_nft_trade_token_title,first_connect_dapp,first_otc_fiat_code,airdrop_name,invite_code,lately_login_ip,level_1_user_source,level_2_user_source,level_3_user_source, categorical_column=0,1,2,3,4,5,6,7,8,9,10,11,12,13,18,20,21,22 will be ignored. Current value: categorical_feature=source,package,os,language,country,language_group,country_group,first_token_trade_coin_pair,first_token_trade_chain_pair,first_nft_trade_token_title,first_connect_dapp,first_otc_fiat_code,airdrop_name,invite_code,lately_login_ip,level_1_user_source,level_2_user_source,level_3_user_source\n",
      "[LightGBM] [Warning] Auto-choosing row-wise multi-threading, the overhead of testing was 0.003187 seconds.\n",
      "You can set `force_row_wise=true` to remove the overhead.\n",
      "And if memory is not enough, you can set `force_col_wise=true`.\n",
      "[LightGBM] [Info] Total Bins 1822\n",
      "[LightGBM] [Info] Number of positive: 14734, number of negative: 15633\n",
      "[LightGBM] [Info] Number of data points in the train set: 30367, number of used features: 21\n",
      "[LightGBM] [Info] [binary:BoostFromScore]: pavg=0.485198 -> initscore=-0.059226\n",
      "[LightGBM] [Info] Start training from score -0.059226\n",
      "[LightGBM] [Warning] Auto-choosing row-wise multi-threading, the overhead of testing was 0.006200 seconds.\n",
      "You can set `force_row_wise=true` to remove the overhead.\n",
      "And if memory is not enough, you can set `force_col_wise=true`.\n",
      "[LightGBM] [Info] Total Bins 1822\n",
      "[LightGBM] [Warning] Auto-choosing row-wise multi-threading, the overhead of testing was 0.004423 seconds.\n",
      "You can set `force_row_wise=true` to remove the overhead.\n",
      "And if memory is not enough, you can set `force_col_wise=true`.\n",
      "[LightGBM] [Info] Total Bins 1822\n",
      "[LightGBM] [Info] Number of data points in the train set: 30367, number of used features: 21\n",
      "[LightGBM] [Info] Number of data points in the train set: 30367, number of used features: 21\n",
      "[LightGBM] [Info] [binary:BoostFromScore]: pavg=0.485198 -> initscore=-0.059226\n",
      "[LightGBM] [Info] Start training from score -0.059226\n",
      "[LightGBM] [Info] [binary:BoostFromScore]: pavg=0.485198 -> initscore=-0.059226\n",
      "[LightGBM] [Info] Start training from score -0.059226\n",
      "[LightGBM] [Warning] No further splits with positive gain, best gain: -inf\n"
     ]
    },
    {
     "name": "stderr",
     "output_type": "stream",
     "text": [
      "[I 2024-05-11 11:04:28,305] Trial 2 finished with value: -0.8120917581394544 and parameters: {'boosting': 'gbdt', 'max_depth': 19, 'learning_rate': 0.1505862661766028, 'n_estimators': 136, 'num_leaves': 110}. Best is trial 2 with value: -0.8120917581394544.\n",
      "[I 2024-05-11 11:04:33,643] Trial 0 finished with value: -0.7730490986552592 and parameters: {'boosting': 'dart', 'max_depth': 56, 'learning_rate': 0.26940407868012023, 'n_estimators': 321, 'num_leaves': 46}. Best is trial 2 with value: -0.8120917581394544.\n",
      "[I 2024-05-11 11:04:41,094] Trial 1 finished with value: -0.8473257760145556 and parameters: {'boosting': 'dart', 'max_depth': 43, 'learning_rate': 0.29161144407649753, 'n_estimators': 461, 'num_leaves': 148}. Best is trial 1 with value: -0.8473257760145556.\n"
     ]
    },
    {
     "name": "stdout",
     "output_type": "stream",
     "text": [
      "Best Hyperparameters:  {'boosting': 'dart', 'max_depth': 43, 'learning_rate': 0.29161144407649753, 'n_estimators': 461, 'num_leaves': 148}\n",
      "[LightGBM] [Warning] boosting is set=dart, boosting_type=gbdt will be ignored. Current value: boosting=dart\n",
      "[LightGBM] [Warning] Categorical features with more bins than the configured maximum bin number found.\n",
      "[LightGBM] [Warning] For categorical features, max_bin and max_bin_by_feature may be ignored with a large number of categories.\n",
      "[LightGBM] [Warning] boosting is set=dart, boosting_type=gbdt will be ignored. Current value: boosting=dart\n",
      "[LightGBM] [Info] Number of positive: 14734, number of negative: 15633\n",
      "[LightGBM] [Warning] Auto-choosing row-wise multi-threading, the overhead of testing was 0.001767 seconds.\n",
      "You can set `force_row_wise=true` to remove the overhead.\n",
      "And if memory is not enough, you can set `force_col_wise=true`.\n",
      "[LightGBM] [Info] Total Bins 1822\n",
      "[LightGBM] [Info] Number of data points in the train set: 30367, number of used features: 21\n",
      "[LightGBM] [Info] [binary:BoostFromScore]: pavg=0.485198 -> initscore=-0.059226\n",
      "[LightGBM] [Info] Start training from score -0.059226\n"
     ]
    },
    {
     "data": {
      "text/html": [
       "<style>#sk-container-id-1 {color: black;background-color: white;}#sk-container-id-1 pre{padding: 0;}#sk-container-id-1 div.sk-toggleable {background-color: white;}#sk-container-id-1 label.sk-toggleable__label {cursor: pointer;display: block;width: 100%;margin-bottom: 0;padding: 0.3em;box-sizing: border-box;text-align: center;}#sk-container-id-1 label.sk-toggleable__label-arrow:before {content: \"▸\";float: left;margin-right: 0.25em;color: #696969;}#sk-container-id-1 label.sk-toggleable__label-arrow:hover:before {color: black;}#sk-container-id-1 div.sk-estimator:hover label.sk-toggleable__label-arrow:before {color: black;}#sk-container-id-1 div.sk-toggleable__content {max-height: 0;max-width: 0;overflow: hidden;text-align: left;background-color: #f0f8ff;}#sk-container-id-1 div.sk-toggleable__content pre {margin: 0.2em;color: black;border-radius: 0.25em;background-color: #f0f8ff;}#sk-container-id-1 input.sk-toggleable__control:checked~div.sk-toggleable__content {max-height: 200px;max-width: 100%;overflow: auto;}#sk-container-id-1 input.sk-toggleable__control:checked~label.sk-toggleable__label-arrow:before {content: \"▾\";}#sk-container-id-1 div.sk-estimator input.sk-toggleable__control:checked~label.sk-toggleable__label {background-color: #d4ebff;}#sk-container-id-1 div.sk-label input.sk-toggleable__control:checked~label.sk-toggleable__label {background-color: #d4ebff;}#sk-container-id-1 input.sk-hidden--visually {border: 0;clip: rect(1px 1px 1px 1px);clip: rect(1px, 1px, 1px, 1px);height: 1px;margin: -1px;overflow: hidden;padding: 0;position: absolute;width: 1px;}#sk-container-id-1 div.sk-estimator {font-family: monospace;background-color: #f0f8ff;border: 1px dotted black;border-radius: 0.25em;box-sizing: border-box;margin-bottom: 0.5em;}#sk-container-id-1 div.sk-estimator:hover {background-color: #d4ebff;}#sk-container-id-1 div.sk-parallel-item::after {content: \"\";width: 100%;border-bottom: 1px solid gray;flex-grow: 1;}#sk-container-id-1 div.sk-label:hover label.sk-toggleable__label {background-color: #d4ebff;}#sk-container-id-1 div.sk-serial::before {content: \"\";position: absolute;border-left: 1px solid gray;box-sizing: border-box;top: 0;bottom: 0;left: 50%;z-index: 0;}#sk-container-id-1 div.sk-serial {display: flex;flex-direction: column;align-items: center;background-color: white;padding-right: 0.2em;padding-left: 0.2em;position: relative;}#sk-container-id-1 div.sk-item {position: relative;z-index: 1;}#sk-container-id-1 div.sk-parallel {display: flex;align-items: stretch;justify-content: center;background-color: white;position: relative;}#sk-container-id-1 div.sk-item::before, #sk-container-id-1 div.sk-parallel-item::before {content: \"\";position: absolute;border-left: 1px solid gray;box-sizing: border-box;top: 0;bottom: 0;left: 50%;z-index: -1;}#sk-container-id-1 div.sk-parallel-item {display: flex;flex-direction: column;z-index: 1;position: relative;background-color: white;}#sk-container-id-1 div.sk-parallel-item:first-child::after {align-self: flex-end;width: 50%;}#sk-container-id-1 div.sk-parallel-item:last-child::after {align-self: flex-start;width: 50%;}#sk-container-id-1 div.sk-parallel-item:only-child::after {width: 0;}#sk-container-id-1 div.sk-dashed-wrapped {border: 1px dashed gray;margin: 0 0.4em 0.5em 0.4em;box-sizing: border-box;padding-bottom: 0.4em;background-color: white;}#sk-container-id-1 div.sk-label label {font-family: monospace;font-weight: bold;display: inline-block;line-height: 1.2em;}#sk-container-id-1 div.sk-label-container {text-align: center;}#sk-container-id-1 div.sk-container {/* jupyter's `normalize.less` sets `[hidden] { display: none; }` but bootstrap.min.css set `[hidden] { display: none !important; }` so we also need the `!important` here to be able to override the default hidden behavior on the sphinx rendered scikit-learn.org. See: https://github.com/scikit-learn/scikit-learn/issues/21755 */display: inline-block !important;position: relative;}#sk-container-id-1 div.sk-text-repr-fallback {display: none;}</style><div id=\"sk-container-id-1\" class=\"sk-top-container\"><div class=\"sk-text-repr-fallback\"><pre>LGBMClassifier(boosting=&#x27;dart&#x27;, learning_rate=0.29161144407649753, max_depth=43,\n",
       "               n_estimators=461, num_leaves=148)</pre><b>In a Jupyter environment, please rerun this cell to show the HTML representation or trust the notebook. <br />On GitHub, the HTML representation is unable to render, please try loading this page with nbviewer.org.</b></div><div class=\"sk-container\" hidden><div class=\"sk-item\"><div class=\"sk-estimator sk-toggleable\"><input class=\"sk-toggleable__control sk-hidden--visually\" id=\"sk-estimator-id-1\" type=\"checkbox\" checked><label for=\"sk-estimator-id-1\" class=\"sk-toggleable__label sk-toggleable__label-arrow\">LGBMClassifier</label><div class=\"sk-toggleable__content\"><pre>LGBMClassifier(boosting=&#x27;dart&#x27;, learning_rate=0.29161144407649753, max_depth=43,\n",
       "               n_estimators=461, num_leaves=148)</pre></div></div></div></div></div>"
      ],
      "text/plain": [
       "LGBMClassifier(boosting='dart', learning_rate=0.29161144407649753, max_depth=43,\n",
       "               n_estimators=461, num_leaves=148)"
      ]
     },
     "execution_count": 4,
     "metadata": {},
     "output_type": "execute_result"
    }
   ],
   "source": [
    "t = AttributeGeneral(df, features, target, n_trials=3, task_type='classification')\n",
    "t.train()"
   ]
  },
  {
   "cell_type": "code",
   "execution_count": 5,
   "metadata": {},
   "outputs": [],
   "source": [
    "tree_df, best_path, rq, message = t('device_create_date', ['2024-04-27', '2024-04-28'], 'imei')"
   ]
  },
  {
   "cell_type": "code",
   "execution_count": 6,
   "metadata": {},
   "outputs": [
    {
     "name": "stdout",
     "output_type": "stream",
     "text": [
      "昨日总体2024-04-27: 15633\n",
      "今日总体2024-04-28: 14734\n",
      "归因路径\n",
      "country: 孟加拉国, 尼日利亚, 美国, 乌克兰, 俄罗斯联邦, 德国, 伊朗, 菲律宾, 英国, 越南等\n",
      "airdrop_name: zklend-BWB, XDAO (ZetaChain Testnet), navi_irene_galxe, 第11期 - BWB积分持有者专属福利, Kiloex, Meta Merge, Taiko, AI PEPE KING, KIP Protocol—BWB, Galxe-BWB等\n",
      "first_connect_dapp: Mantle Rewards Station, GMGN.Ai, xter.io, portal.bouncebit.io, Sunflower Land, DappBay, connect.archway.io, QuestN, Stargate Finance, paramgaming.com等\n",
      "昨日2024-04-27: 2614\n",
      "今日2024-04-28: 1880\n",
      "贡献度: 0.82\n",
      "\n"
     ]
    }
   ],
   "source": [
    "print(message)"
   ]
  },
  {
   "cell_type": "code",
   "execution_count": 7,
   "metadata": {},
   "outputs": [
    {
     "data": {
      "text/plain": [
       "14"
      ]
     },
     "execution_count": 7,
     "metadata": {},
     "output_type": "execute_result"
    }
   ],
   "source": [
    "df[df['airdrop_name'] == 'manta-NFT'][df['device_create_date'] == '2024-04-27']['imei'].nunique()"
   ]
  },
  {
   "cell_type": "code",
   "execution_count": 8,
   "metadata": {},
   "outputs": [
    {
     "data": {
      "text/plain": [
       "11"
      ]
     },
     "execution_count": 8,
     "metadata": {},
     "output_type": "execute_result"
    }
   ],
   "source": [
    "df[df['airdrop_name'] == 'manta-NFT'][df['device_create_date'] == '2024-04-28']['imei'].nunique()"
   ]
  },
  {
   "cell_type": "code",
   "execution_count": 9,
   "metadata": {},
   "outputs": [
    {
     "data": {
      "text/plain": [
       "airdrop_name\n",
       "$ZKBG表单空投                           2\n",
       "4EVERLAND (Scroll)                  0\n",
       "AI PEPE KING                        1\n",
       "Aboard Exchange                     2\n",
       "Aptos-BWB                          20\n",
       "BEVM-BWB                            1\n",
       "Bitget Swap                         0\n",
       "BitgetSwap                        128\n",
       "Character X                         2\n",
       "CharacterX (ZetaChain Testnet)      0\n",
       "Name: imei, dtype: int64"
      ]
     },
     "execution_count": 9,
     "metadata": {},
     "output_type": "execute_result"
    }
   ],
   "source": [
    "df[df['country'].isin(rq['country'])][df['airdrop_name'].isin(rq['airdrop_name'])][df['device_create_date'] == '2024-04-27'].groupby('airdrop_name')['imei'].nunique().head(10)"
   ]
  },
  {
   "cell_type": "code",
   "execution_count": 10,
   "metadata": {},
   "outputs": [
    {
     "data": {
      "text/plain": [
       "airdrop_name\n",
       "$ZKBG表单空投                           0\n",
       "4EVERLAND (Scroll)                  1\n",
       "AI PEPE KING                        0\n",
       "Aboard Exchange                     0\n",
       "Aptos-BWB                           9\n",
       "BEVM-BWB                            0\n",
       "Bitget Swap                         2\n",
       "BitgetSwap                        139\n",
       "Character X                         0\n",
       "CharacterX (ZetaChain Testnet)      1\n",
       "Name: imei, dtype: int64"
      ]
     },
     "execution_count": 10,
     "metadata": {},
     "output_type": "execute_result"
    }
   ],
   "source": [
    "df[df['country'].isin(rq['country'])][df['airdrop_name'].isin(rq['airdrop_name'])][df['device_create_date'] == '2024-04-28'].groupby('airdrop_name')['imei'].nunique().head(10)"
   ]
  },
  {
   "cell_type": "code",
   "execution_count": null,
   "metadata": {},
   "outputs": [],
   "source": []
  }
 ],
 "metadata": {
  "kernelspec": {
   "display_name": "base",
   "language": "python",
   "name": "python3"
  },
  "language_info": {
   "codemirror_mode": {
    "name": "ipython",
    "version": 3
   },
   "file_extension": ".py",
   "mimetype": "text/x-python",
   "name": "python",
   "nbconvert_exporter": "python",
   "pygments_lexer": "ipython3",
   "version": "3.10.8"
  },
  "orig_nbformat": 4,
  "vscode": {
   "interpreter": {
    "hash": "d4d1e4263499bec80672ea0156c357c1ee493ec2b1c70f0acce89fc37c4a6abe"
   }
  }
 },
 "nbformat": 4,
 "nbformat_minor": 2
}
