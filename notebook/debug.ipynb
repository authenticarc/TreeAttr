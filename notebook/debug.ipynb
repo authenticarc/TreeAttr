{
 "cells": [
  {
   "cell_type": "code",
   "execution_count": 3,
   "metadata": {},
   "outputs": [],
   "source": [
    "import sys\n",
    "sys.path.append('/home/jovyan/analysis/attr_explore/TreeAttr/src')\n",
    "\n",
    "from TreeAttrClassify import TreeAttrClassify\n",
    "from TreeAttrUtils import best_path\n",
    "import pandas as pd"
   ]
  },
  {
   "cell_type": "code",
   "execution_count": 4,
   "metadata": {},
   "outputs": [],
   "source": [
    "df = pd.read_csv('/home/jovyan/analysis/attr_explore/TreeAttr/logs/cls-2024-05-13 05:00:54.071203.csv')"
   ]
  },
  {
   "cell_type": "code",
   "execution_count": 24,
   "metadata": {},
   "outputs": [],
   "source": [
    "def best_path(tree_df, depth=1):\n",
    "    tree_dict = tree_df.set_index('node_index').to_dict('index')\n",
    "\n",
    "    if depth == 0:\n",
    "        raise ValueError(\"Depth must be greater than 0\")\n",
    "    \n",
    "    max_sum = 0\n",
    "    best_path = []\n",
    "\n",
    "    def find_paths(node, current_path, current_ids, current_length):\n",
    "        print(current_path)\n",
    "        if current_length == depth or pd.isna(tree_dict[node]['left_child']) or pd.isna(tree_dict[node]['right_child']):\n",
    "            nonlocal max_sum, best_path\n",
    "            current_sum = sum(current_path)\n",
    "            if current_sum > max_sum:\n",
    "                max_sum = current_sum\n",
    "                best_path = current_ids.copy()\n",
    "            return\n",
    "        \n",
    "        for child in ['left_child', 'right_child']:\n",
    "            child_id = tree_dict[node][child]\n",
    "            child_value = tree_dict[child_id]['ratio']\n",
    "            if child_value > 0:\n",
    "                find_paths(child_id, current_path + [child_value], current_ids + [child_id], current_length + 1)\n",
    "            else:\n",
    "                continue\n",
    "\n",
    "    find_paths(0, [], [0], 1)\n",
    "    return max_sum, best_path"
   ]
  },
  {
   "cell_type": "code",
   "execution_count": 25,
   "metadata": {},
   "outputs": [
    {
     "name": "stdout",
     "output_type": "stream",
     "text": [
      "[]\n",
      "[10.041379310344828]\n",
      "[10.041379310344828, 1.006896551724138]\n",
      "[10.041379310344828, 9.06206896551724]\n",
      "19.103448275862068 [0, 1.0, 4.0]\n"
     ]
    }
   ],
   "source": [
    "a, b = best_path(df, 10)\n",
    "print(a, b)"
   ]
  },
  {
   "cell_type": "code",
   "execution_count": 15,
   "metadata": {},
   "outputs": [
    {
     "data": {
      "text/html": [
       "<div>\n",
       "<style scoped>\n",
       "    .dataframe tbody tr th:only-of-type {\n",
       "        vertical-align: middle;\n",
       "    }\n",
       "\n",
       "    .dataframe tbody tr th {\n",
       "        vertical-align: top;\n",
       "    }\n",
       "\n",
       "    .dataframe thead th {\n",
       "        text-align: right;\n",
       "    }\n",
       "</style>\n",
       "<table border=\"1\" class=\"dataframe\">\n",
       "  <thead>\n",
       "    <tr style=\"text-align: right;\">\n",
       "      <th></th>\n",
       "      <th>node_index</th>\n",
       "      <th>left_child</th>\n",
       "      <th>right_child</th>\n",
       "      <th>ratio</th>\n",
       "    </tr>\n",
       "  </thead>\n",
       "  <tbody>\n",
       "    <tr>\n",
       "      <th>0</th>\n",
       "      <td>0.0</td>\n",
       "      <td>1.0</td>\n",
       "      <td>2.0</td>\n",
       "      <td>1.000000</td>\n",
       "    </tr>\n",
       "    <tr>\n",
       "      <th>1</th>\n",
       "      <td>1.0</td>\n",
       "      <td>3.0</td>\n",
       "      <td>4.0</td>\n",
       "      <td>10.041379</td>\n",
       "    </tr>\n",
       "    <tr>\n",
       "      <th>2</th>\n",
       "      <td>2.0</td>\n",
       "      <td>5.0</td>\n",
       "      <td>6.0</td>\n",
       "      <td>-6.317241</td>\n",
       "    </tr>\n",
       "    <tr>\n",
       "      <th>3</th>\n",
       "      <td>3.0</td>\n",
       "      <td>NaN</td>\n",
       "      <td>NaN</td>\n",
       "      <td>1.006897</td>\n",
       "    </tr>\n",
       "    <tr>\n",
       "      <th>4</th>\n",
       "      <td>4.0</td>\n",
       "      <td>NaN</td>\n",
       "      <td>NaN</td>\n",
       "      <td>9.062069</td>\n",
       "    </tr>\n",
       "    <tr>\n",
       "      <th>5</th>\n",
       "      <td>5.0</td>\n",
       "      <td>11.0</td>\n",
       "      <td>12.0</td>\n",
       "      <td>-5.889655</td>\n",
       "    </tr>\n",
       "    <tr>\n",
       "      <th>6</th>\n",
       "      <td>6.0</td>\n",
       "      <td>13.0</td>\n",
       "      <td>14.0</td>\n",
       "      <td>-3.544828</td>\n",
       "    </tr>\n",
       "    <tr>\n",
       "      <th>7</th>\n",
       "      <td>11.0</td>\n",
       "      <td>23.0</td>\n",
       "      <td>24.0</td>\n",
       "      <td>-2.406897</td>\n",
       "    </tr>\n",
       "    <tr>\n",
       "      <th>8</th>\n",
       "      <td>12.0</td>\n",
       "      <td>25.0</td>\n",
       "      <td>26.0</td>\n",
       "      <td>-4.193103</td>\n",
       "    </tr>\n",
       "    <tr>\n",
       "      <th>9</th>\n",
       "      <td>13.0</td>\n",
       "      <td>27.0</td>\n",
       "      <td>28.0</td>\n",
       "      <td>2.137931</td>\n",
       "    </tr>\n",
       "  </tbody>\n",
       "</table>\n",
       "</div>"
      ],
      "text/plain": [
       "   node_index  left_child  right_child      ratio\n",
       "0         0.0         1.0          2.0   1.000000\n",
       "1         1.0         3.0          4.0  10.041379\n",
       "2         2.0         5.0          6.0  -6.317241\n",
       "3         3.0         NaN          NaN   1.006897\n",
       "4         4.0         NaN          NaN   9.062069\n",
       "5         5.0        11.0         12.0  -5.889655\n",
       "6         6.0        13.0         14.0  -3.544828\n",
       "7        11.0        23.0         24.0  -2.406897\n",
       "8        12.0        25.0         26.0  -4.193103\n",
       "9        13.0        27.0         28.0   2.137931"
      ]
     },
     "execution_count": 15,
     "metadata": {},
     "output_type": "execute_result"
    }
   ],
   "source": [
    "df[['node_index', 'left_child', 'right_child', 'ratio']].head(10)"
   ]
  },
  {
   "cell_type": "code",
   "execution_count": null,
   "metadata": {},
   "outputs": [],
   "source": []
  }
 ],
 "metadata": {
  "kernelspec": {
   "display_name": "base",
   "language": "python",
   "name": "python3"
  },
  "language_info": {
   "codemirror_mode": {
    "name": "ipython",
    "version": 3
   },
   "file_extension": ".py",
   "mimetype": "text/x-python",
   "name": "python",
   "nbconvert_exporter": "python",
   "pygments_lexer": "ipython3",
   "version": "3.10.8"
  },
  "orig_nbformat": 4,
  "vscode": {
   "interpreter": {
    "hash": "d4d1e4263499bec80672ea0156c357c1ee493ec2b1c70f0acce89fc37c4a6abe"
   }
  }
 },
 "nbformat": 4,
 "nbformat_minor": 2
}
